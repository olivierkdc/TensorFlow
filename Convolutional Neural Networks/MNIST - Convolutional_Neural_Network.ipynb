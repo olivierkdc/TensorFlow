{
 "cells": [
  {
   "cell_type": "markdown",
   "id": "f68a3467",
   "metadata": {},
   "source": [
    "# Exploring MNIST Convolutional Neural Networks in TensorFlow/Keras\n",
    "### Olivier Kuhn de Chizelle\n",
    "##### 10/12/2022\n"
   ]
  },
  {
   "cell_type": "markdown",
   "id": "e9a874fb",
   "metadata": {},
   "source": [
    "### Load Required Libraries"
   ]
  },
  {
   "cell_type": "code",
   "execution_count": 1,
   "id": "c6dd205d",
   "metadata": {},
   "outputs": [],
   "source": [
    "import numpy as np\n",
    "import keras\n",
    "from keras import layers \n",
    "from keras import models\n",
    "from tensorflow.keras.utils import to_categorical\n",
    "import tensorflow as tf\n",
    "import matplotlib.pyplot as plt\n",
    "\n",
    "import warnings\n",
    "warnings.filterwarnings(\"ignore\")"
   ]
  },
  {
   "cell_type": "markdown",
   "id": "ddc8477e",
   "metadata": {},
   "source": [
    "### Define Preliminary Image Visualization Function"
   ]
  },
  {
   "cell_type": "code",
   "execution_count": 2,
   "id": "177c4816",
   "metadata": {},
   "outputs": [],
   "source": [
    "def visualize(image):\n",
    "    plt.imshow(image, cmap=plt.cm.gray); plt.show()    "
   ]
  },
  {
   "cell_type": "markdown",
   "id": "b3a01545",
   "metadata": {},
   "source": [
    "### Load and Explore Data\n",
    "\n",
    "Le't's build an easy model from the MNIST Dataset.\n",
    "\n",
    "Our Data contains 60000 28x28 GrayScale Training images and 10000 28x28 GrayScale Testing images. "
   ]
  },
  {
   "cell_type": "code",
   "execution_count": 3,
   "id": "cb7fd390",
   "metadata": {},
   "outputs": [],
   "source": [
    "(x_train, y_train), (x_test, y_test) = tf.keras.datasets.mnist.load_data()"
   ]
  },
  {
   "cell_type": "code",
   "execution_count": 4,
   "id": "aa81e5ed",
   "metadata": {},
   "outputs": [
    {
     "name": "stdout",
     "output_type": "stream",
     "text": [
      "---------- RAW TRAIN ----------\n",
      "x (60000, 28, 28)\n",
      "y (60000,)\n",
      "---------- RAW TEST ----------\n",
      "x (10000, 28, 28)\n",
      "y (10000,)\n"
     ]
    }
   ],
   "source": [
    "# EXAMINE SHAPE OF THE DATA\n",
    "print(\"---------- RAW TRAIN ----------\")\n",
    "print(\"x\", x_train.shape)\n",
    "print(\"y\", y_train.shape)\n",
    "\n",
    "print(\"---------- RAW TEST ----------\")\n",
    "print(\"x\", x_test.shape)\n",
    "print(\"y\", y_test.shape)\n"
   ]
  },
  {
   "cell_type": "code",
   "execution_count": 5,
   "id": "d16b5e0d",
   "metadata": {},
   "outputs": [
    {
     "name": "stdout",
     "output_type": "stream",
     "text": [
      "BEFORE CONVERSION \n",
      " 5\n",
      "AFTER CONVERSION \n",
      " [0. 0. 0. 0. 0. 1. 0. 0. 0. 0.]\n"
     ]
    }
   ],
   "source": [
    "# RESHAPE OUR DATA\n",
    "x_train = x_train.reshape((60000,28,28,1))\n",
    "x_test = x_test.reshape((10000,28,28,1))\n",
    "\n",
    "# NORMALIZE OUR DATA\n",
    "x_train = x_train.astype('float32') / 255 \n",
    "x_test = x_test.astype('float32') / 255  \n",
    "\n",
    "\n",
    "# CONVERT Y_TRAIN AND Y_TEST TO BINARY CLASS MATRICES\n",
    "print(\"BEFORE CONVERSION \\n\", y_train[0])\n",
    "y_train = to_categorical(y_train)\n",
    "y_test = to_categorical(y_test)\n",
    "print(\"AFTER CONVERSION \\n\", y_train[0])"
   ]
  },
  {
   "cell_type": "code",
   "execution_count": 6,
   "id": "532884ad",
   "metadata": {},
   "outputs": [
    {
     "name": "stdout",
     "output_type": "stream",
     "text": [
      "---------- RESHAPED TRAIN ----------\n",
      "x (60000, 28, 28, 1)\n",
      "y (60000, 10)\n",
      "---------- RESHAPED TEST ----------\n",
      "x (10000, 28, 28, 1)\n",
      "y (10000, 10)\n"
     ]
    }
   ],
   "source": [
    "# EXAMINE SHAPE OF THE RESHAPED DATA\n",
    "print(\"---------- RESHAPED TRAIN ----------\")\n",
    "print(\"x\", x_train.shape)\n",
    "print(\"y\", y_train.shape)\n",
    "\n",
    "print(\"---------- RESHAPED TEST ----------\")\n",
    "print(\"x\", x_test.shape)\n",
    "print(\"y\", y_test.shape)"
   ]
  },
  {
   "cell_type": "code",
   "execution_count": 7,
   "id": "18d5ae38",
   "metadata": {},
   "outputs": [
    {
     "data": {
      "image/png": "[encoded data removed]",
      "text/plain": [
       "<Figure size 432x288 with 1 Axes>"
      ]
     },
     "metadata": {
      "needs_background": "light"
     },
     "output_type": "display_data"
    },
    {
     "data": {
      "image/png": "[encoded data removed]",
      "text/plain": [
       "<Figure size 432x288 with 1 Axes>"
      ]
     },
     "metadata": {
      "needs_background": "light"
     },
     "output_type": "display_data"
    }
   ],
   "source": [
    "visualize(x_train[0])\n",
    "visualize(x_train[1])"
   ]
  },
  {
   "cell_type": "markdown",
   "id": "98261f44",
   "metadata": {},
   "source": [
    "### Build Model"
   ]
  },
  {
   "cell_type": "code",
   "execution_count": 8,
   "id": "eb41f21e",
   "metadata": {},
   "outputs": [],
   "source": [
    "# DEFINE FUNCTION TO BUILD SEQUENTIAL MODEL\n",
    "\n",
    "def BuildModel(input_shape: tuple, num_layers: int, kernel_dim: tuple, activation: str, pooling_dim: tuple, num_classes: int, summarize: bool):\n",
    "    \"\"\"\n",
    "    Returns Keras CNN\n",
    "    input_shape: dimensions of the images\n",
    "    num_layers: Number of Convolutional Layers req: >= 1\n",
    "    kernel_dim: Dimensions of Conv2D Kernel\n",
    "    activation: Activation Function at each Convolutional Layer\n",
    "    pooling_dim: Dimensions of MaxPooling\n",
    "    num_classes: Number of Classes to predict\n",
    "    summarize: Boolean, prints model.summary() \n",
    "    \"\"\"\n",
    "    \n",
    "    model = models.Sequential()\n",
    "    model.add(layers.Conv2D(32, kernel_dim, activation = activation, input_shape= input_shape))\n",
    "    model.add(layers.MaxPooling2D(pooling_dim))\n",
    "    \n",
    "    for i in range(num_layers - 2):\n",
    "        model.add(layers.Conv2D(64, kernel_dim, activation = activation))\n",
    "        model.add(layers.MaxPooling2D(pooling_dim))\n",
    "        \n",
    "    model.add(layers.Conv2D(64, kernel_dim, activation = activation))\n",
    "    model.add(layers.Flatten())\n",
    "    \n",
    "    model.add(layers.Dense(64, activation = activation))\n",
    "    model.add(layers.Dense(num_classes, activation = 'softmax'))\n",
    "        \n",
    "    if summarize:\n",
    "        print(model.summary())\n",
    "    \n",
    "    return model"
   ]
  },
  {
   "cell_type": "code",
   "execution_count": 9,
   "id": "4be923b0",
   "metadata": {},
   "outputs": [
    {
     "name": "stdout",
     "output_type": "stream",
     "text": [
      "Model: \"sequential\"\n",
      "_________________________________________________________________\n",
      " Layer (type)                Output Shape              Param #   \n",
      "=================================================================\n",
      " conv2d (Conv2D)             (None, 26, 26, 32)        320       \n",
      "                                                                 \n",
      " max_pooling2d (MaxPooling2D  (None, 13, 13, 32)       0         \n",
      " )                                                               \n",
      "                                                                 \n",
      " conv2d_1 (Conv2D)           (None, 11, 11, 64)        18496     \n",
      "                                                                 \n",
      " max_pooling2d_1 (MaxPooling  (None, 5, 5, 64)         0         \n",
      " 2D)                                                             \n",
      "                                                                 \n",
      " conv2d_2 (Conv2D)           (None, 3, 3, 64)          36928     \n",
      "                                                                 \n",
      " flatten (Flatten)           (None, 576)               0         \n",
      "                                                                 \n",
      " dense (Dense)               (None, 64)                36928     \n",
      "                                                                 \n",
      " dense_1 (Dense)             (None, 10)                650       \n",
      "                                                                 \n",
      "=================================================================\n",
      "Total params: 93,322\n",
      "Trainable params: 93,322\n",
      "Non-trainable params: 0\n",
      "_________________________________________________________________\n",
      "None\n"
     ]
    }
   ],
   "source": [
    "# Let's build our model!\n",
    "\n",
    "input_shape = (28,28,1)\n",
    "num_layers = 3\n",
    "kernel_dim = (3,3)\n",
    "activation = 'relu'\n",
    "pooling_dim = (2,2)\n",
    "num_classes = 10\n",
    "\n",
    "model = BuildModel(\n",
    "    input_shape = input_shape, \n",
    "    num_layers = num_layers, \n",
    "    kernel_dim = kernel_dim, \n",
    "    activation = activation, \n",
    "    pooling_dim = pooling_dim,\n",
    "    num_classes = num_classes,\n",
    "    summarize = True\n",
    ")"
   ]
  },
  {
   "cell_type": "markdown",
   "id": "1afebc4b",
   "metadata": {},
   "source": [
    "### Train Model"
   ]
  },
  {
   "cell_type": "code",
   "execution_count": 10,
   "id": "08983c89",
   "metadata": {},
   "outputs": [],
   "source": [
    "epochs = 10\n",
    "batch_size = 1250\n",
    "\n",
    "#-------------------------------------\n",
    "#COMPILE AND TRAIN MODEL\n",
    "#-------------------------------------\n",
    "\n",
    "model.compile(optimizer='rmsprop', loss='categorical_crossentropy', metrics=['accuracy'])\n",
    "history = model.fit(x_train, y_train, epochs=epochs, validation_split=0.2,batch_size=batch_size, verbose = 0)"
   ]
  },
  {
   "cell_type": "code",
   "execution_count": 11,
   "id": "f2bcc3bf",
   "metadata": {},
   "outputs": [
    {
     "data": {
      "image/png": "[encoded data removed]",
      "text/plain": [
       "<Figure size 432x288 with 1 Axes>"
      ]
     },
     "metadata": {
      "needs_background": "light"
     },
     "output_type": "display_data"
    }
   ],
   "source": [
    "history_dict = history.history\n",
    "\n",
    "loss_values = history_dict['loss']\n",
    "val_loss_values = history_dict['val_loss']\n",
    "epochs = range(1, len(loss_values) + 1)\n",
    "plt.plot(epochs, loss_values, 'bo', label='Training loss')\n",
    "plt.plot(epochs, val_loss_values, 'b', label='Validation loss')\n",
    "plt.title('Training and validation loss')\n",
    "plt.xlabel('Epochs')\n",
    "plt.ylabel('Loss')\n",
    "plt.legend()\n",
    "plt.show()"
   ]
  },
  {
   "cell_type": "code",
   "execution_count": 12,
   "id": "ecd768da",
   "metadata": {},
   "outputs": [
    {
     "data": {
      "image/png": "[encoded data removed]",
      "text/plain": [
       "<Figure size 432x288 with 1 Axes>"
      ]
     },
     "metadata": {
      "needs_background": "light"
     },
     "output_type": "display_data"
    }
   ],
   "source": [
    "acc = history_dict[\"accuracy\"]\n",
    "val_acc = history_dict['val_accuracy']\n",
    "plt.plot(epochs, acc, 'bo', label='Training acc')\n",
    "plt.plot(epochs, val_acc, 'b', label='Validation acc')\n",
    "plt.title('Training and validation accuracy')\n",
    "plt.xlabel('Epochs')\n",
    "plt.ylabel('Loss')\n",
    "plt.legend()\n",
    "plt.show()"
   ]
  }
 ],
 "metadata": {
  "kernelspec": {
   "display_name": "Python 3 (ipykernel)",
   "language": "python",
   "name": "python3"
  },
  "language_info": {
   "codemirror_mode": {
    "name": "ipython",
    "version": 3
   },
   "file_extension": ".py",
   "mimetype": "text/x-python",
   "name": "python",
   "nbconvert_exporter": "python",
   "pygments_lexer": "ipython3",
   "version": "3.10.1"
  }
 },
 "nbformat": 4,
 "nbformat_minor": 5
}
