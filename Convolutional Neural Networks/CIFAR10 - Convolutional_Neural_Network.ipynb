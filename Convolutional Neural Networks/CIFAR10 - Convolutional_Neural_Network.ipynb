{
 "cells": [
  {
   "cell_type": "markdown",
   "id": "f68a3467",
   "metadata": {},
   "source": [
    "# Exploring CIFAR10 Convolutional Neural Networks in TensorFlow/Keras\n",
    "### Olivier Kuhn de Chizelle\n",
    "##### 10/12/2022\n"
   ]
  },
  {
   "cell_type": "markdown",
   "id": "e9a874fb",
   "metadata": {},
   "source": [
    "### Load Required Libraries"
   ]
  },
  {
   "cell_type": "code",
   "execution_count": 1,
   "id": "c6dd205d",
   "metadata": {},
   "outputs": [],
   "source": [
    "import numpy as np\n",
    "import keras\n",
    "from keras import layers \n",
    "from keras import models\n",
    "from tensorflow.keras.utils import to_categorical\n",
    "import tensorflow as tf\n",
    "import matplotlib.pyplot as plt\n",
    "\n",
    "import warnings\n",
    "warnings.filterwarnings(\"ignore\")"
   ]
  },
  {
   "cell_type": "markdown",
   "id": "ddc8477e",
   "metadata": {},
   "source": [
    "### Define Preliminary Image Visualization Function"
   ]
  },
  {
   "cell_type": "code",
   "execution_count": 2,
   "id": "177c4816",
   "metadata": {},
   "outputs": [],
   "source": [
    "def visualize(image):\n",
    "    plt.imshow(image, cmap=plt.cm.gray); plt.show()    "
   ]
  },
  {
   "cell_type": "markdown",
   "id": "b3a01545",
   "metadata": {},
   "source": [
    "### Load and Explore Data\n",
    "\n",
    "Le't's build an easy model from the MNIST Dataset.\n",
    "\n",
    "Our Data contains 60000 28x28 GrayScale Training images and 10000 28x28 GrayScale Testing images. "
   ]
  },
  {
   "cell_type": "code",
   "execution_count": 3,
   "id": "cb7fd390",
   "metadata": {},
   "outputs": [],
   "source": [
    "(x_train, y_train), (x_test, y_test) = tf.keras.datasets.cifar10.load_data()"
   ]
  },
  {
   "cell_type": "code",
   "execution_count": 4,
   "id": "aa81e5ed",
   "metadata": {},
   "outputs": [
    {
     "name": "stdout",
     "output_type": "stream",
     "text": [
      "---------- RAW TRAIN ----------\n",
      "x (50000, 32, 32, 3)\n",
      "y (50000, 1)\n",
      "---------- RAW TEST ----------\n",
      "x (10000, 32, 32, 3)\n",
      "y (10000, 1)\n"
     ]
    }
   ],
   "source": [
    "# EXAMINE SHAPE OF THE DATA\n",
    "print(\"---------- RAW TRAIN ----------\")\n",
    "print(\"x\", x_train.shape)\n",
    "print(\"y\", y_train.shape)\n",
    "\n",
    "print(\"---------- RAW TEST ----------\")\n",
    "print(\"x\", x_test.shape)\n",
    "print(\"y\", y_test.shape)\n"
   ]
  },
  {
   "cell_type": "code",
   "execution_count": 5,
   "id": "d16b5e0d",
   "metadata": {},
   "outputs": [
    {
     "name": "stdout",
     "output_type": "stream",
     "text": [
      "BEFORE CONVERSION \n",
      " [6]\n",
      "AFTER CONVERSION \n",
      " [0. 0. 0. 0. 0. 0. 1. 0. 0. 0.]\n"
     ]
    }
   ],
   "source": [
    "# RESHAPE OUR DATA\n",
    "x_train = x_train.reshape((50000,32,32,3))\n",
    "x_test = x_test.reshape((10000,32,32,3))\n",
    "\n",
    "# NORMALIZE OUR DATA\n",
    "x_train = x_train.astype('float32') / 255 \n",
    "x_test = x_test.astype('float32') / 255  \n",
    "\n",
    "\n",
    "# CONVERT Y_TRAIN AND Y_TEST TO BINARY CLASS MATRICES\n",
    "print(\"BEFORE CONVERSION \\n\", y_train[0])\n",
    "y_train = to_categorical(y_train)\n",
    "y_test = to_categorical(y_test)\n",
    "print(\"AFTER CONVERSION \\n\", y_train[0])"
   ]
  },
  {
   "cell_type": "code",
   "execution_count": 6,
   "id": "532884ad",
   "metadata": {},
   "outputs": [
    {
     "name": "stdout",
     "output_type": "stream",
     "text": [
      "---------- RESHAPED TRAIN ----------\n",
      "x (50000, 32, 32, 3)\n",
      "y (50000, 10)\n",
      "---------- RESHAPED TEST ----------\n",
      "x (10000, 32, 32, 3)\n",
      "y (10000, 10)\n"
     ]
    }
   ],
   "source": [
    "# EXAMINE SHAPE OF THE RESHAPED DATA\n",
    "print(\"---------- RESHAPED TRAIN ----------\")\n",
    "print(\"x\", x_train.shape)\n",
    "print(\"y\", y_train.shape)\n",
    "\n",
    "print(\"---------- RESHAPED TEST ----------\")\n",
    "print(\"x\", x_test.shape)\n",
    "print(\"y\", y_test.shape)"
   ]
  },
  {
   "cell_type": "code",
   "execution_count": 7,
   "id": "18d5ae38",
   "metadata": {},
   "outputs": [
    {
     "data": {
      "image/png": "[encoded data removed]",
      "text/plain": [
       "<Figure size 432x288 with 1 Axes>"
      ]
     },
     "metadata": {
      "needs_background": "light"
     },
     "output_type": "display_data"
    },
    {
     "data": {
      "image/png": "[encoded data removed]",
      "text/plain": [
       "<Figure size 432x288 with 1 Axes>"
      ]
     },
     "metadata": {
      "needs_background": "light"
     },
     "output_type": "display_data"
    }
   ],
   "source": [
    "visualize(x_train[0])\n",
    "visualize(x_train[1])"
   ]
  },
  {
   "cell_type": "markdown",
   "id": "98261f44",
   "metadata": {},
   "source": [
    "### Build Model"
   ]
  },
  {
   "cell_type": "code",
   "execution_count": 8,
   "id": "eb41f21e",
   "metadata": {},
   "outputs": [],
   "source": [
    "# DEFINE FUNCTION TO BUILD SEQUENTIAL MODEL\n",
    "\n",
    "def BuildModel(input_shape: tuple, num_layers: int, kernel_dim: tuple, activation: str, pooling_dim: tuple, num_classes: int, summarize: bool):\n",
    "    \"\"\"\n",
    "    Returns Keras CNN\n",
    "    input_shape: dimensions of the images\n",
    "    num_layers: Number of Convolutional Layers req: >= 1\n",
    "    kernel_dim: Dimensions of Conv2D Kernel\n",
    "    activation: Activation Function at each Convolutional Layer\n",
    "    pooling_dim: Dimensions of MaxPooling\n",
    "    num_classes: Number of Classes to predict\n",
    "    summarize: Boolean, prints model.summary() \n",
    "    \"\"\"\n",
    "    \n",
    "    model = models.Sequential()\n",
    "    model.add(layers.Conv2D(32, kernel_dim, activation = activation, input_shape= input_shape))\n",
    "    model.add(layers.MaxPooling2D(pooling_dim))\n",
    "    \n",
    "    for i in range(num_layers - 2):\n",
    "        model.add(layers.Conv2D(64, kernel_dim, activation = activation))\n",
    "        model.add(layers.MaxPooling2D(pooling_dim))\n",
    "        \n",
    "    model.add(layers.Conv2D(64, kernel_dim, activation = activation))\n",
    "    model.add(layers.Flatten())\n",
    "    \n",
    "    model.add(layers.Dense(64, activation = activation))\n",
    "    model.add(layers.Dense(num_classes, activation = 'softmax'))\n",
    "        \n",
    "    if summarize:\n",
    "        print(model.summary())\n",
    "    \n",
    "    return model"
   ]
  },
  {
   "cell_type": "code",
   "execution_count": 9,
   "id": "4be923b0",
   "metadata": {},
   "outputs": [
    {
     "name": "stdout",
     "output_type": "stream",
     "text": [
      "Model: \"sequential\"\n",
      "_________________________________________________________________\n",
      " Layer (type)                Output Shape              Param #   \n",
      "=================================================================\n",
      " conv2d (Conv2D)             (None, 30, 30, 32)        896       \n",
      "                                                                 \n",
      " max_pooling2d (MaxPooling2D  (None, 15, 15, 32)       0         \n",
      " )                                                               \n",
      "                                                                 \n",
      " conv2d_1 (Conv2D)           (None, 13, 13, 64)        18496     \n",
      "                                                                 \n",
      " max_pooling2d_1 (MaxPooling  (None, 6, 6, 64)         0         \n",
      " 2D)                                                             \n",
      "                                                                 \n",
      " conv2d_2 (Conv2D)           (None, 4, 4, 64)          36928     \n",
      "                                                                 \n",
      " flatten (Flatten)           (None, 1024)              0         \n",
      "                                                                 \n",
      " dense (Dense)               (None, 64)                65600     \n",
      "                                                                 \n",
      " dense_1 (Dense)             (None, 10)                650       \n",
      "                                                                 \n",
      "=================================================================\n",
      "Total params: 122,570\n",
      "Trainable params: 122,570\n",
      "Non-trainable params: 0\n",
      "_________________________________________________________________\n",
      "None\n"
     ]
    }
   ],
   "source": [
    "# Let's build our model!\n",
    "\n",
    "input_shape = (32,32,3)\n",
    "num_layers = 3\n",
    "kernel_dim = (3,3)\n",
    "activation = 'relu'\n",
    "pooling_dim = (2,2)\n",
    "num_classes = 10\n",
    "\n",
    "model = BuildModel(\n",
    "    input_shape = input_shape, \n",
    "    num_layers = num_layers, \n",
    "    kernel_dim = kernel_dim, \n",
    "    activation = activation, \n",
    "    pooling_dim = pooling_dim,\n",
    "    num_classes = num_classes,\n",
    "    summarize = True\n",
    ")"
   ]
  },
  {
   "cell_type": "markdown",
   "id": "1afebc4b",
   "metadata": {},
   "source": [
    "### Train Model"
   ]
  },
  {
   "cell_type": "code",
   "execution_count": 10,
   "id": "08983c89",
   "metadata": {},
   "outputs": [
    {
     "name": "stdout",
     "output_type": "stream",
     "text": [
      "Epoch 1/50\n",
      "32/32 [==============================] - 11s 323ms/step - loss: 2.1788 - accuracy: 0.1959 - val_loss: 2.2138 - val_accuracy: 0.1733\n",
      "Epoch 2/50\n",
      "32/32 [==============================] - 10s 317ms/step - loss: 1.9648 - accuracy: 0.2951 - val_loss: 1.7836 - val_accuracy: 0.3538\n",
      "Epoch 3/50\n",
      "32/32 [==============================] - 10s 322ms/step - loss: 1.8478 - accuracy: 0.3419 - val_loss: 1.7673 - val_accuracy: 0.3696\n",
      "Epoch 4/50\n",
      "32/32 [==============================] - 10s 325ms/step - loss: 1.7797 - accuracy: 0.3690 - val_loss: 1.7151 - val_accuracy: 0.3897\n",
      "Epoch 5/50\n",
      "32/32 [==============================] - 10s 310ms/step - loss: 1.7064 - accuracy: 0.3921 - val_loss: 1.6503 - val_accuracy: 0.4209\n",
      "Epoch 6/50\n",
      "32/32 [==============================] - 10s 312ms/step - loss: 1.6161 - accuracy: 0.4252 - val_loss: 1.8495 - val_accuracy: 0.3738\n",
      "Epoch 7/50\n",
      "32/32 [==============================] - 10s 314ms/step - loss: 1.5924 - accuracy: 0.4372 - val_loss: 1.5607 - val_accuracy: 0.4412\n",
      "Epoch 8/50\n",
      "32/32 [==============================] - 10s 319ms/step - loss: 1.5278 - accuracy: 0.4572 - val_loss: 1.6121 - val_accuracy: 0.4219\n",
      "Epoch 9/50\n",
      "32/32 [==============================] - 10s 320ms/step - loss: 1.4969 - accuracy: 0.4743 - val_loss: 1.4276 - val_accuracy: 0.4958\n",
      "Epoch 10/50\n",
      "32/32 [==============================] - 10s 319ms/step - loss: 1.4433 - accuracy: 0.4887 - val_loss: 1.4665 - val_accuracy: 0.4802\n",
      "Epoch 11/50\n",
      "32/32 [==============================] - 10s 319ms/step - loss: 1.4118 - accuracy: 0.4994 - val_loss: 1.3946 - val_accuracy: 0.5073\n",
      "Epoch 12/50\n",
      "32/32 [==============================] - 10s 318ms/step - loss: 1.3809 - accuracy: 0.5102 - val_loss: 1.3895 - val_accuracy: 0.5224\n",
      "Epoch 13/50\n",
      "32/32 [==============================] - 10s 318ms/step - loss: 1.3645 - accuracy: 0.5199 - val_loss: 1.4043 - val_accuracy: 0.5096\n",
      "Epoch 14/50\n",
      "32/32 [==============================] - 10s 322ms/step - loss: 1.3321 - accuracy: 0.5323 - val_loss: 1.4225 - val_accuracy: 0.4949\n",
      "Epoch 15/50\n",
      "32/32 [==============================] - 11s 335ms/step - loss: 1.2878 - accuracy: 0.5457 - val_loss: 1.3576 - val_accuracy: 0.5185\n",
      "Epoch 16/50\n",
      "32/32 [==============================] - 11s 339ms/step - loss: 1.2797 - accuracy: 0.5522 - val_loss: 1.3768 - val_accuracy: 0.5271\n",
      "Epoch 17/50\n",
      "32/32 [==============================] - 11s 334ms/step - loss: 1.2481 - accuracy: 0.5631 - val_loss: 1.2797 - val_accuracy: 0.5618\n",
      "Epoch 18/50\n",
      "32/32 [==============================] - 10s 325ms/step - loss: 1.2261 - accuracy: 0.5706 - val_loss: 1.2571 - val_accuracy: 0.5652\n",
      "Epoch 19/50\n",
      "32/32 [==============================] - 10s 325ms/step - loss: 1.2027 - accuracy: 0.5793 - val_loss: 1.1790 - val_accuracy: 0.5880\n",
      "Epoch 20/50\n",
      "32/32 [==============================] - 10s 324ms/step - loss: 1.1918 - accuracy: 0.5864 - val_loss: 1.1857 - val_accuracy: 0.5872\n",
      "Epoch 21/50\n",
      "32/32 [==============================] - 10s 325ms/step - loss: 1.1601 - accuracy: 0.5945 - val_loss: 1.2985 - val_accuracy: 0.5490\n",
      "Epoch 22/50\n",
      "32/32 [==============================] - 11s 349ms/step - loss: 1.1418 - accuracy: 0.6033 - val_loss: 1.3152 - val_accuracy: 0.5455\n",
      "Epoch 23/50\n",
      "32/32 [==============================] - 10s 318ms/step - loss: 1.1234 - accuracy: 0.6069 - val_loss: 1.2150 - val_accuracy: 0.5630\n",
      "Epoch 24/50\n",
      "32/32 [==============================] - 10s 318ms/step - loss: 1.1096 - accuracy: 0.6130 - val_loss: 1.2089 - val_accuracy: 0.5748\n",
      "Epoch 25/50\n",
      "32/32 [==============================] - 11s 341ms/step - loss: 1.0934 - accuracy: 0.6190 - val_loss: 1.1453 - val_accuracy: 0.5907\n",
      "Epoch 26/50\n",
      "32/32 [==============================] - 10s 317ms/step - loss: 1.0699 - accuracy: 0.6262 - val_loss: 1.1018 - val_accuracy: 0.6109\n",
      "Epoch 27/50\n",
      "32/32 [==============================] - 10s 316ms/step - loss: 1.0615 - accuracy: 0.6295 - val_loss: 1.1510 - val_accuracy: 0.5914\n",
      "Epoch 28/50\n",
      "32/32 [==============================] - 10s 316ms/step - loss: 1.0297 - accuracy: 0.6420 - val_loss: 1.2293 - val_accuracy: 0.5788\n",
      "Epoch 29/50\n",
      "32/32 [==============================] - 10s 315ms/step - loss: 1.0262 - accuracy: 0.6431 - val_loss: 1.1178 - val_accuracy: 0.6029\n",
      "Epoch 30/50\n",
      "32/32 [==============================] - 10s 324ms/step - loss: 1.0126 - accuracy: 0.6454 - val_loss: 1.1345 - val_accuracy: 0.6062\n",
      "Epoch 31/50\n",
      "32/32 [==============================] - 10s 315ms/step - loss: 0.9918 - accuracy: 0.6532 - val_loss: 1.1078 - val_accuracy: 0.6155\n",
      "Epoch 32/50\n",
      "32/32 [==============================] - 10s 307ms/step - loss: 0.9819 - accuracy: 0.6581 - val_loss: 1.1120 - val_accuracy: 0.6137\n",
      "Epoch 33/50\n",
      "32/32 [==============================] - 10s 318ms/step - loss: 0.9692 - accuracy: 0.6660 - val_loss: 1.0226 - val_accuracy: 0.6400\n",
      "Epoch 34/50\n",
      "32/32 [==============================] - 10s 319ms/step - loss: 0.9587 - accuracy: 0.6663 - val_loss: 1.0128 - val_accuracy: 0.6463\n",
      "Epoch 35/50\n",
      "32/32 [==============================] - 10s 308ms/step - loss: 0.9397 - accuracy: 0.6726 - val_loss: 1.1016 - val_accuracy: 0.6236\n",
      "Epoch 36/50\n",
      "32/32 [==============================] - 10s 316ms/step - loss: 0.9278 - accuracy: 0.6808 - val_loss: 1.0967 - val_accuracy: 0.6246\n",
      "Epoch 37/50\n",
      "32/32 [==============================] - 10s 308ms/step - loss: 0.9211 - accuracy: 0.6789 - val_loss: 1.0198 - val_accuracy: 0.6390\n",
      "Epoch 38/50\n",
      "32/32 [==============================] - 10s 307ms/step - loss: 0.8961 - accuracy: 0.6889 - val_loss: 0.9929 - val_accuracy: 0.6558\n",
      "Epoch 39/50\n",
      "32/32 [==============================] - 10s 312ms/step - loss: 0.8962 - accuracy: 0.6873 - val_loss: 0.9810 - val_accuracy: 0.6570\n",
      "Epoch 40/50\n",
      "32/32 [==============================] - 10s 316ms/step - loss: 0.8833 - accuracy: 0.6949 - val_loss: 1.0502 - val_accuracy: 0.6413\n",
      "Epoch 41/50\n",
      "32/32 [==============================] - 10s 317ms/step - loss: 0.8627 - accuracy: 0.7011 - val_loss: 0.9850 - val_accuracy: 0.6608\n",
      "Epoch 42/50\n",
      "32/32 [==============================] - 10s 308ms/step - loss: 0.8589 - accuracy: 0.7017 - val_loss: 1.0153 - val_accuracy: 0.6486\n",
      "Epoch 43/50\n",
      "32/32 [==============================] - 10s 322ms/step - loss: 0.8495 - accuracy: 0.7041 - val_loss: 1.0580 - val_accuracy: 0.6355\n",
      "Epoch 44/50\n",
      "32/32 [==============================] - 11s 337ms/step - loss: 0.8392 - accuracy: 0.7095 - val_loss: 0.9909 - val_accuracy: 0.6495\n",
      "Epoch 45/50\n",
      "32/32 [==============================] - 11s 337ms/step - loss: 0.8241 - accuracy: 0.7146 - val_loss: 1.0704 - val_accuracy: 0.6327\n",
      "Epoch 46/50\n",
      "32/32 [==============================] - 10s 315ms/step - loss: 0.8206 - accuracy: 0.7141 - val_loss: 1.0189 - val_accuracy: 0.6464\n",
      "Epoch 47/50\n",
      "32/32 [==============================] - 10s 314ms/step - loss: 0.8079 - accuracy: 0.7177 - val_loss: 0.9869 - val_accuracy: 0.6561\n",
      "Epoch 48/50\n",
      "32/32 [==============================] - 10s 313ms/step - loss: 0.7913 - accuracy: 0.7246 - val_loss: 0.9305 - val_accuracy: 0.6850\n",
      "Epoch 49/50\n",
      "32/32 [==============================] - 10s 309ms/step - loss: 0.7840 - accuracy: 0.7289 - val_loss: 0.9230 - val_accuracy: 0.6830\n",
      "Epoch 50/50\n",
      "32/32 [==============================] - 10s 312ms/step - loss: 0.7810 - accuracy: 0.7304 - val_loss: 0.9606 - val_accuracy: 0.6700\n"
     ]
    }
   ],
   "source": [
    "epochs = 50\n",
    "batch_size = 1250\n",
    "\n",
    "#-------------------------------------\n",
    "#COMPILE AND TRAIN MODEL\n",
    "#-------------------------------------\n",
    "\n",
    "model.compile(optimizer='rmsprop', loss='categorical_crossentropy', metrics=['accuracy'])\n",
    "history = model.fit(x_train, y_train, epochs=epochs, validation_split=0.2,batch_size=batch_size, verbose = 1)"
   ]
  },
  {
   "cell_type": "code",
   "execution_count": 13,
   "id": "f2bcc3bf",
   "metadata": {},
   "outputs": [
    {
     "data": {
      "image/png": "[encoded data removed]",
      "text/plain": [
       "<Figure size 432x288 with 1 Axes>"
      ]
     },
     "metadata": {
      "needs_background": "light"
     },
     "output_type": "display_data"
    }
   ],
   "source": [
    "history_dict = history.history\n",
    "\n",
    "loss_values = history_dict['loss']\n",
    "val_loss_values = history_dict['val_loss']\n",
    "epochs = range(1, len(loss_values) + 1)\n",
    "plt.plot(epochs, loss_values, 'bo', label='Training loss')\n",
    "plt.plot(epochs, val_loss_values, 'b', label='Validation loss')\n",
    "plt.title('Training and validation loss')\n",
    "plt.xlabel('Epochs')\n",
    "plt.ylabel('Loss')\n",
    "plt.legend()\n",
    "plt.show()"
   ]
  },
  {
   "cell_type": "code",
   "execution_count": 14,
   "id": "ecd768da",
   "metadata": {},
   "outputs": [
    {
     "data": {
      "image/png": "[encoded data removed]",
      "text/plain": [
       "<Figure size 432x288 with 1 Axes>"
      ]
     },
     "metadata": {
      "needs_background": "light"
     },
     "output_type": "display_data"
    }
   ],
   "source": [
    "acc = history_dict[\"accuracy\"]\n",
    "val_acc = history_dict['val_accuracy']\n",
    "plt.plot(epochs, acc, 'bo', label='Training acc')\n",
    "plt.plot(epochs, val_acc, 'b', label='Validation acc')\n",
    "plt.title('Training and validation accuracy')\n",
    "plt.xlabel('Epochs')\n",
    "plt.ylabel('Loss')\n",
    "plt.legend()\n",
    "plt.show()"
   ]
  }
 ],
 "metadata": {
  "kernelspec": {
   "display_name": "Python 3 (ipykernel)",
   "language": "python",
   "name": "python3"
  },
  "language_info": {
   "codemirror_mode": {
    "name": "ipython",
    "version": 3
   },
   "file_extension": ".py",
   "mimetype": "text/x-python",
   "name": "python",
   "nbconvert_exporter": "python",
   "pygments_lexer": "ipython3",
   "version": "3.9.12"
  }
 },
 "nbformat": 4,
 "nbformat_minor": 5
}
